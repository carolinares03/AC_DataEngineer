{
 "cells": [
  {
   "cell_type": "code",
   "execution_count": null,
   "id": "d04ebbce",
   "metadata": {},
   "outputs": [],
   "source": [
    "# Importamos librerías\n",
    "import sys\n",
    "import os\n",
    "import pandas as pd\n",
    "\n",
    "# Se posiciona en ENTREGABLEFINAL (ruta origen)\n",
    "BASE_DIR = os.path.abspath(os.path.join(os.getcwd(), '..'))\n",
    "sys.path.append(BASE_DIR)"
   ]
  },
  {
   "cell_type": "code",
   "execution_count": null,
   "id": "c8ac8255",
   "metadata": {},
   "outputs": [],
   "source": [
    "# Importamos módulos a testear\n",
    "from src.db.conector import ConectorBDD\n",
    "from src.models.producto import Producto"
   ]
  },
  {
   "cell_type": "code",
   "execution_count": null,
   "id": "73126767",
   "metadata": {},
   "outputs": [],
   "source": [
    "# Conexión a la base\n",
    "con = ConectorBDD()\n",
    "engine = con.get_engine()\n",
    "\n",
    "# Consulta como DataFrame\n",
    "df = pd.read_sql(\"SELECT * FROM productos LIMIT 10\", engine)\n",
    "df.head()"
   ]
  },
  {
   "cell_type": "code",
   "execution_count": null,
   "id": "82c5df8e",
   "metadata": {},
   "outputs": [],
   "source": []
  }
 ],
 "metadata": {
  "kernelspec": {
   "display_name": "venv",
   "language": "python",
   "name": "python3"
  },
  "language_info": {
   "codemirror_mode": {
    "name": "ipython",
    "version": 3
   },
   "file_extension": ".py",
   "mimetype": "text/x-python",
   "name": "python",
   "nbconvert_exporter": "python",
   "pygments_lexer": "ipython3",
   "version": "3.13.3"
  }
 },
 "nbformat": 4,
 "nbformat_minor": 5
}
