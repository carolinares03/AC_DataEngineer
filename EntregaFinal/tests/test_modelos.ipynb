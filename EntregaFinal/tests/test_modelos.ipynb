{
 "cells": [
  {
   "cell_type": "code",
   "execution_count": null,
   "id": "b66adb9c",
   "metadata": {},
   "outputs": [],
   "source": [
    "# Importamos librerías\n",
    "import sys\n",
    "import os\n",
    "sys.path.append(os.path.abspath(\"..\"))"
   ]
  },
  {
   "cell_type": "markdown",
   "id": "56fa0e6a",
   "metadata": {},
   "source": [
    "## Empleados"
   ]
  },
  {
   "cell_type": "code",
   "execution_count": null,
   "id": "6fada06d",
   "metadata": {},
   "outputs": [],
   "source": [
    "from src.models.employee import Employee"
   ]
  },
  {
   "cell_type": "code",
   "execution_count": null,
   "id": "0f514e64",
   "metadata": {},
   "outputs": [],
   "source": [
    "e1 = Employee(FirstName=\"Ana\", MiddleInitial=\"M\", LastName=\"Gómez\")\n",
    "assert e1.nombre_completo() == \"Ana M Gómez\", f\"❌ nombre_completo() dio: {e1.nombre_completo()}\"\n",
    "print(\"✅ nombre_completo() con inicial funciona\")\n",
    "\n",
    "e2 = Employee(FirstName=\"Luis\", MiddleInitial=None, LastName=\"Pérez\")\n",
    "assert e2.nombre_completo() == \"Luis Pérez\", f\"❌ nombre_completo() dio: {e2.nombre_completo()}\"\n",
    "print(\"✅ nombre_completo() sin inicial funciona\")"
   ]
  },
  {
   "cell_type": "code",
   "execution_count": null,
   "id": "6a4ecb07",
   "metadata": {},
   "outputs": [],
   "source": [
    "hace_5_anios = datetime.now() - timedelta(days=365 * 5)\n",
    "emp = Employee(HireDate=hace_5_anios)\n",
    "\n",
    "assert emp.antiguedad() == 5, f\"❌ antiguedad() dio: {emp.antiguedad()}\"\n",
    "print(\"✅ antiguedad() calcula correctamente los años trabajados\")\n",
    "\n",
    "emp_sin_fecha = Employee()\n",
    "assert emp_sin_fecha.antiguedad() is None, \"❌ antiguedad() debería devolver None si no hay fecha\"\n",
    "print(\"✅ antiguedad() maneja fecha faltante\")\n"
   ]
  },
  {
   "cell_type": "code",
   "execution_count": null,
   "id": "8a18e798",
   "metadata": {},
   "outputs": [],
   "source": []
  },
  {
   "cell_type": "markdown",
   "id": "d6b4d2f3",
   "metadata": {},
   "source": [
    "## Producto"
   ]
  },
  {
   "cell_type": "code",
   "execution_count": null,
   "id": "9b291197",
   "metadata": {},
   "outputs": [],
   "source": [
    "from src.models.producto import Producto"
   ]
  },
  {
   "cell_type": "code",
   "execution_count": null,
   "id": "85457254",
   "metadata": {},
   "outputs": [],
   "source": [
    "# Crear un producto de prueba\n",
    "p = Producto(ProductName=\"Test\", Price=100.0)\n",
    "\n",
    "# Test: aplicar un 20% de descuento\n",
    "p.aplicar_descuento(20)\n",
    "assert round(p.Price, 2) == 80.0, f\"Error: el precio debería ser 80.0 pero fue {p.Price}\"\n",
    "print(\"✅ aplicar_descuento(20) funciona correctamente\")\n",
    "\n",
    "# Test: porcentaje inválido\n",
    "try:\n",
    "    p.aplicar_descuento(-10)\n",
    "    print(\"❌ aplicar_descuento(-10) debería lanzar excepción\")\n",
    "except ValueError:\n",
    "    print(\"✅ aplicar_descuento(-10) lanza excepción correctamente\")\n"
   ]
  },
  {
   "cell_type": "code",
   "execution_count": null,
   "id": "054ac1e4",
   "metadata": {},
   "outputs": [],
   "source": [
    "p1 = Producto(IsAllergic='Yes')\n",
    "assert p1.es_alergico() == True, \"❌ es_alergico() debería devolver True para 'Yes'\"\n",
    "\n",
    "p2 = Producto(IsAllergic='no')\n",
    "assert p2.es_alergico() == False, \"❌ es_alergico() debería devolver False para 'no'\"\n",
    "\n",
    "print(\"✅ es_alergico() funciona correctamente con diferentes valores\")"
   ]
  },
  {
   "cell_type": "markdown",
   "id": "9d3a2b24",
   "metadata": {},
   "source": [
    "## Reportes"
   ]
  },
  {
   "cell_type": "code",
   "execution_count": null,
   "id": "3f9ab3a7",
   "metadata": {},
   "outputs": [],
   "source": [
    "from src.models.reportes import Reportes"
   ]
  },
  {
   "cell_type": "code",
   "execution_count": null,
   "id": "255bcd4d",
   "metadata": {},
   "outputs": [],
   "source": [
    "try:\n",
    "    Reportes.productos_por_categoria()\n",
    "    print(\"✅ productos_por_categoria() se ejecutó correctamente.\")\n",
    "except Exception as e:\n",
    "    print(\"❌ Error al ejecutar productos_por_categoria():\", e)"
   ]
  },
  {
   "cell_type": "code",
   "execution_count": null,
   "id": "75a4b715",
   "metadata": {},
   "outputs": [],
   "source": [
    "try:\n",
    "    Reportes.ventas_por_empleado()\n",
    "    print(\"✅ ventas_por_empleado() se ejecutó correctamente.\")\n",
    "except Exception as e:\n",
    "    print(\"❌ Error al ejecutar ventas_por_empleado():\", e)\n"
   ]
  },
  {
   "cell_type": "code",
   "execution_count": null,
   "id": "1201ffae",
   "metadata": {},
   "outputs": [],
   "source": [
    "try:\n",
    "    Reportes.mejores_clientes(top_n=5)\n",
    "    print(\"✅ mejores_clientes() se ejecutó correctamente.\")\n",
    "except Exception as e:\n",
    "    print(\"❌ Error al ejecutar mejores_clientes():\", e)\n"
   ]
  },
  {
   "cell_type": "code",
   "execution_count": null,
   "id": "4df98df1",
   "metadata": {},
   "outputs": [],
   "source": [
    "try:\n",
    "    Reportes.productos_mas_vendidos(top_n=5)\n",
    "    print(\"✅ productos_mas_vendidos() se ejecutó correctamente.\")\n",
    "except Exception as e:\n",
    "    print(\"❌ Error al ejecutar productos_mas_vendidos():\", e)\n"
   ]
  }
 ],
 "metadata": {
  "language_info": {
   "name": "python"
  }
 },
 "nbformat": 4,
 "nbformat_minor": 5
}
